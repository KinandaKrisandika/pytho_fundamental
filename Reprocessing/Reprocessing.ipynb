{
 "cells": [
  {
   "cell_type": "code",
   "execution_count": 1,
   "metadata": {},
   "outputs": [
    {
     "name": "stdout",
     "output_type": "stream",
     "text": [
      "Requirement already satisfied: geopy in c:\\users\\user\\.pyenv\\pyenv-win\\versions\\3.10.11\\lib\\site-packages (2.4.1)\n",
      "Requirement already satisfied: geographiclib<3,>=1.52 in c:\\users\\user\\.pyenv\\pyenv-win\\versions\\3.10.11\\lib\\site-packages (from geopy) (2.0)\n"
     ]
    },
    {
     "name": "stderr",
     "output_type": "stream",
     "text": [
      "\n",
      "[notice] A new release of pip is available: 23.0.1 -> 24.3.1\n",
      "[notice] To update, run: python.exe -m pip install --upgrade pip\n"
     ]
    },
    {
     "name": "stdout",
     "output_type": "stream",
     "text": [
      "Requirement already satisfied: pandas in c:\\users\\user\\.pyenv\\pyenv-win\\versions\\3.10.11\\lib\\site-packages (2.2.3)\n",
      "Requirement already satisfied: numpy>=1.22.4 in c:\\users\\user\\.pyenv\\pyenv-win\\versions\\3.10.11\\lib\\site-packages (from pandas) (2.1.2)\n",
      "Requirement already satisfied: pytz>=2020.1 in c:\\users\\user\\.pyenv\\pyenv-win\\versions\\3.10.11\\lib\\site-packages (from pandas) (2024.2)\n",
      "Requirement already satisfied: tzdata>=2022.7 in c:\\users\\user\\.pyenv\\pyenv-win\\versions\\3.10.11\\lib\\site-packages (from pandas) (2024.2)\n",
      "Requirement already satisfied: python-dateutil>=2.8.2 in c:\\users\\user\\.pyenv\\pyenv-win\\versions\\3.10.11\\lib\\site-packages (from pandas) (2.9.0.post0)\n",
      "Requirement already satisfied: six>=1.5 in c:\\users\\user\\.pyenv\\pyenv-win\\versions\\3.10.11\\lib\\site-packages (from python-dateutil>=2.8.2->pandas) (1.16.0)\n"
     ]
    },
    {
     "name": "stderr",
     "output_type": "stream",
     "text": [
      "\n",
      "[notice] A new release of pip is available: 23.0.1 -> 24.3.1\n",
      "[notice] To update, run: python.exe -m pip install --upgrade pip\n"
     ]
    },
    {
     "name": "stdout",
     "output_type": "stream",
     "text": [
      "Requirement already satisfied: duckdb in c:\\users\\user\\.pyenv\\pyenv-win\\versions\\3.10.11\\lib\\site-packages (1.1.3)"
     ]
    },
    {
     "name": "stderr",
     "output_type": "stream",
     "text": [
      "\n",
      "[notice] A new release of pip is available: 23.0.1 -> 24.3.1\n",
      "[notice] To update, run: python.exe -m pip install --upgrade pip\n"
     ]
    },
    {
     "name": "stdout",
     "output_type": "stream",
     "text": [
      "\n",
      "Requirement already satisfied: seaborn in c:\\users\\user\\.pyenv\\pyenv-win\\versions\\3.10.11\\lib\\site-packages (0.13.2)\n",
      "Requirement already satisfied: numpy!=1.24.0,>=1.20 in c:\\users\\user\\.pyenv\\pyenv-win\\versions\\3.10.11\\lib\\site-packages (from seaborn) (2.1.2)\n",
      "Requirement already satisfied: matplotlib!=3.6.1,>=3.4 in c:\\users\\user\\.pyenv\\pyenv-win\\versions\\3.10.11\\lib\\site-packages (from seaborn) (3.9.2)\n",
      "Requirement already satisfied: pandas>=1.2 in c:\\users\\user\\.pyenv\\pyenv-win\\versions\\3.10.11\\lib\\site-packages (from seaborn) (2.2.3)\n",
      "Requirement already satisfied: cycler>=0.10 in c:\\users\\user\\.pyenv\\pyenv-win\\versions\\3.10.11\\lib\\site-packages (from matplotlib!=3.6.1,>=3.4->seaborn) (0.12.1)\n",
      "Requirement already satisfied: packaging>=20.0 in c:\\users\\user\\.pyenv\\pyenv-win\\versions\\3.10.11\\lib\\site-packages (from matplotlib!=3.6.1,>=3.4->seaborn) (24.1)\n",
      "Requirement already satisfied: pillow>=8 in c:\\users\\user\\.pyenv\\pyenv-win\\versions\\3.10.11\\lib\\site-packages (from matplotlib!=3.6.1,>=3.4->seaborn) (11.0.0)\n",
      "Requirement already satisfied: fonttools>=4.22.0 in c:\\users\\user\\.pyenv\\pyenv-win\\versions\\3.10.11\\lib\\site-packages (from matplotlib!=3.6.1,>=3.4->seaborn) (4.54.1)\n",
      "Requirement already satisfied: contourpy>=1.0.1 in c:\\users\\user\\.pyenv\\pyenv-win\\versions\\3.10.11\\lib\\site-packages (from matplotlib!=3.6.1,>=3.4->seaborn) (1.3.0)\n",
      "Requirement already satisfied: kiwisolver>=1.3.1 in c:\\users\\user\\.pyenv\\pyenv-win\\versions\\3.10.11\\lib\\site-packages (from matplotlib!=3.6.1,>=3.4->seaborn) (1.4.7)\n",
      "Requirement already satisfied: python-dateutil>=2.7 in c:\\users\\user\\.pyenv\\pyenv-win\\versions\\3.10.11\\lib\\site-packages (from matplotlib!=3.6.1,>=3.4->seaborn) (2.9.0.post0)\n",
      "Requirement already satisfied: pyparsing>=2.3.1 in c:\\users\\user\\.pyenv\\pyenv-win\\versions\\3.10.11\\lib\\site-packages (from matplotlib!=3.6.1,>=3.4->seaborn) (3.2.0)\n",
      "Requirement already satisfied: pytz>=2020.1 in c:\\users\\user\\.pyenv\\pyenv-win\\versions\\3.10.11\\lib\\site-packages (from pandas>=1.2->seaborn) (2024.2)\n",
      "Requirement already satisfied: tzdata>=2022.7 in c:\\users\\user\\.pyenv\\pyenv-win\\versions\\3.10.11\\lib\\site-packages (from pandas>=1.2->seaborn) (2024.2)\n",
      "Requirement already satisfied: six>=1.5 in c:\\users\\user\\.pyenv\\pyenv-win\\versions\\3.10.11\\lib\\site-packages (from python-dateutil>=2.7->matplotlib!=3.6.1,>=3.4->seaborn) (1.16.0)\n"
     ]
    },
    {
     "name": "stderr",
     "output_type": "stream",
     "text": [
      "\n",
      "[notice] A new release of pip is available: 23.0.1 -> 24.3.1\n",
      "[notice] To update, run: python.exe -m pip install --upgrade pip\n"
     ]
    },
    {
     "name": "stdout",
     "output_type": "stream",
     "text": [
      "Requirement already satisfied: plotly in c:\\users\\user\\.pyenv\\pyenv-win\\versions\\3.10.11\\lib\\site-packages (5.24.1)\n",
      "Requirement already satisfied: tenacity>=6.2.0 in c:\\users\\user\\.pyenv\\pyenv-win\\versions\\3.10.11\\lib\\site-packages (from plotly) (9.0.0)\n",
      "Requirement already satisfied: packaging in c:\\users\\user\\.pyenv\\pyenv-win\\versions\\3.10.11\\lib\\site-packages (from plotly) (24.1)\n"
     ]
    },
    {
     "name": "stderr",
     "output_type": "stream",
     "text": [
      "\n",
      "[notice] A new release of pip is available: 23.0.1 -> 24.3.1\n",
      "[notice] To update, run: python.exe -m pip install --upgrade pip\n"
     ]
    },
    {
     "name": "stdout",
     "output_type": "stream",
     "text": [
      "Requirement already satisfied: matplotlib in c:\\users\\user\\.pyenv\\pyenv-win\\versions\\3.10.11\\lib\\site-packages (3.9.2)\n",
      "Requirement already satisfied: packaging>=20.0 in c:\\users\\user\\.pyenv\\pyenv-win\\versions\\3.10.11\\lib\\site-packages (from matplotlib) (24.1)\n",
      "Requirement already satisfied: numpy>=1.23 in c:\\users\\user\\.pyenv\\pyenv-win\\versions\\3.10.11\\lib\\site-packages (from matplotlib) (2.1.2)\n",
      "Requirement already satisfied: contourpy>=1.0.1 in c:\\users\\user\\.pyenv\\pyenv-win\\versions\\3.10.11\\lib\\site-packages (from matplotlib) (1.3.0)\n",
      "Requirement already satisfied: python-dateutil>=2.7 in c:\\users\\user\\.pyenv\\pyenv-win\\versions\\3.10.11\\lib\\site-packages (from matplotlib) (2.9.0.post0)\n",
      "Requirement already satisfied: fonttools>=4.22.0 in c:\\users\\user\\.pyenv\\pyenv-win\\versions\\3.10.11\\lib\\site-packages (from matplotlib) (4.54.1)\n",
      "Requirement already satisfied: kiwisolver>=1.3.1 in c:\\users\\user\\.pyenv\\pyenv-win\\versions\\3.10.11\\lib\\site-packages (from matplotlib) (1.4.7)\n",
      "Requirement already satisfied: cycler>=0.10 in c:\\users\\user\\.pyenv\\pyenv-win\\versions\\3.10.11\\lib\\site-packages (from matplotlib) (0.12.1)\n",
      "Requirement already satisfied: pyparsing>=2.3.1 in c:\\users\\user\\.pyenv\\pyenv-win\\versions\\3.10.11\\lib\\site-packages (from matplotlib) (3.2.0)\n",
      "Requirement already satisfied: pillow>=8 in c:\\users\\user\\.pyenv\\pyenv-win\\versions\\3.10.11\\lib\\site-packages (from matplotlib) (11.0.0)\n",
      "Requirement already satisfied: six>=1.5 in c:\\users\\user\\.pyenv\\pyenv-win\\versions\\3.10.11\\lib\\site-packages (from python-dateutil>=2.7->matplotlib) (1.16.0)\n"
     ]
    },
    {
     "name": "stderr",
     "output_type": "stream",
     "text": [
      "\n",
      "[notice] A new release of pip is available: 23.0.1 -> 24.3.1\n",
      "[notice] To update, run: python.exe -m pip install --upgrade pip\n"
     ]
    }
   ],
   "source": [
    "!pip3 install geopy\n",
    "!pip3 install pandas\n",
    "!pip3 install duckdb\n",
    "!pip3 install seaborn\n",
    "!pip3 install plotly\n",
    "!pip3 install matplotlib"
   ]
  },
  {
   "cell_type": "code",
   "execution_count": 2,
   "metadata": {},
   "outputs": [],
   "source": [
    "import pandas as pd\n",
    "import duckdb as db\n",
    "import seaborn as sns\n",
    "import matplotlib.pyplot as plt\n",
    "import datetime\n",
    "import dateutil\n",
    "from dateutil import parser\n",
    "import pytz\n",
    "from geopy.geocoders import Nominatim"
   ]
  },
  {
   "cell_type": "code",
   "execution_count": 3,
   "metadata": {},
   "outputs": [
    {
     "data": {
      "text/html": [
       "<div>\n",
       "<style scoped>\n",
       "    .dataframe tbody tr th:only-of-type {\n",
       "        vertical-align: middle;\n",
       "    }\n",
       "\n",
       "    .dataframe tbody tr th {\n",
       "        vertical-align: top;\n",
       "    }\n",
       "\n",
       "    .dataframe thead th {\n",
       "        text-align: right;\n",
       "    }\n",
       "</style>\n",
       "<table border=\"1\" class=\"dataframe\">\n",
       "  <thead>\n",
       "    <tr style=\"text-align: right;\">\n",
       "      <th></th>\n",
       "      <th>Date</th>\n",
       "      <th>Location ISO Code</th>\n",
       "      <th>Location</th>\n",
       "      <th>New Cases</th>\n",
       "      <th>New Deaths</th>\n",
       "      <th>New Recovered</th>\n",
       "      <th>New Active Cases</th>\n",
       "      <th>Total Cases</th>\n",
       "      <th>Total Deaths</th>\n",
       "      <th>Total Recovered</th>\n",
       "      <th>...</th>\n",
       "      <th>Latitude</th>\n",
       "      <th>New Cases per Million</th>\n",
       "      <th>Total Cases per Million</th>\n",
       "      <th>New Deaths per Million</th>\n",
       "      <th>Total Deaths per Million</th>\n",
       "      <th>Total Deaths per 100rb</th>\n",
       "      <th>Case Fatality Rate</th>\n",
       "      <th>Case Recovered Rate</th>\n",
       "      <th>Growth Factor of New Cases</th>\n",
       "      <th>Growth Factor of New Deaths</th>\n",
       "    </tr>\n",
       "  </thead>\n",
       "  <tbody>\n",
       "    <tr>\n",
       "      <th>0</th>\n",
       "      <td>3/1/2020</td>\n",
       "      <td>ID-JK</td>\n",
       "      <td>DKI Jakarta</td>\n",
       "      <td>2</td>\n",
       "      <td>0</td>\n",
       "      <td>0</td>\n",
       "      <td>2</td>\n",
       "      <td>39</td>\n",
       "      <td>20</td>\n",
       "      <td>75</td>\n",
       "      <td>...</td>\n",
       "      <td>-6.204699</td>\n",
       "      <td>0.18</td>\n",
       "      <td>3.60</td>\n",
       "      <td>0.0</td>\n",
       "      <td>1.84</td>\n",
       "      <td>0.18</td>\n",
       "      <td>51.28%</td>\n",
       "      <td>192.31%</td>\n",
       "      <td>NaN</td>\n",
       "      <td>NaN</td>\n",
       "    </tr>\n",
       "    <tr>\n",
       "      <th>1</th>\n",
       "      <td>3/2/2020</td>\n",
       "      <td>ID-JK</td>\n",
       "      <td>DKI Jakarta</td>\n",
       "      <td>2</td>\n",
       "      <td>0</td>\n",
       "      <td>0</td>\n",
       "      <td>2</td>\n",
       "      <td>41</td>\n",
       "      <td>20</td>\n",
       "      <td>75</td>\n",
       "      <td>...</td>\n",
       "      <td>-6.204699</td>\n",
       "      <td>0.18</td>\n",
       "      <td>3.78</td>\n",
       "      <td>0.0</td>\n",
       "      <td>1.84</td>\n",
       "      <td>0.18</td>\n",
       "      <td>48.78%</td>\n",
       "      <td>182.93%</td>\n",
       "      <td>1.0</td>\n",
       "      <td>1.0</td>\n",
       "    </tr>\n",
       "    <tr>\n",
       "      <th>2</th>\n",
       "      <td>3/2/2020</td>\n",
       "      <td>IDN</td>\n",
       "      <td>Indonesia</td>\n",
       "      <td>2</td>\n",
       "      <td>0</td>\n",
       "      <td>0</td>\n",
       "      <td>2</td>\n",
       "      <td>2</td>\n",
       "      <td>0</td>\n",
       "      <td>0</td>\n",
       "      <td>...</td>\n",
       "      <td>-0.789275</td>\n",
       "      <td>0.01</td>\n",
       "      <td>0.01</td>\n",
       "      <td>0.0</td>\n",
       "      <td>0.00</td>\n",
       "      <td>0.00</td>\n",
       "      <td>0.00%</td>\n",
       "      <td>0.00%</td>\n",
       "      <td>NaN</td>\n",
       "      <td>NaN</td>\n",
       "    </tr>\n",
       "    <tr>\n",
       "      <th>3</th>\n",
       "      <td>3/2/2020</td>\n",
       "      <td>ID-RI</td>\n",
       "      <td>Riau</td>\n",
       "      <td>1</td>\n",
       "      <td>0</td>\n",
       "      <td>0</td>\n",
       "      <td>1</td>\n",
       "      <td>1</td>\n",
       "      <td>0</td>\n",
       "      <td>1</td>\n",
       "      <td>...</td>\n",
       "      <td>0.511648</td>\n",
       "      <td>0.16</td>\n",
       "      <td>0.16</td>\n",
       "      <td>0.0</td>\n",
       "      <td>0.00</td>\n",
       "      <td>0.00</td>\n",
       "      <td>0.00%</td>\n",
       "      <td>100.00%</td>\n",
       "      <td>NaN</td>\n",
       "      <td>NaN</td>\n",
       "    </tr>\n",
       "    <tr>\n",
       "      <th>4</th>\n",
       "      <td>3/3/2020</td>\n",
       "      <td>ID-JK</td>\n",
       "      <td>DKI Jakarta</td>\n",
       "      <td>2</td>\n",
       "      <td>0</td>\n",
       "      <td>0</td>\n",
       "      <td>2</td>\n",
       "      <td>43</td>\n",
       "      <td>20</td>\n",
       "      <td>75</td>\n",
       "      <td>...</td>\n",
       "      <td>-6.204699</td>\n",
       "      <td>0.18</td>\n",
       "      <td>3.96</td>\n",
       "      <td>0.0</td>\n",
       "      <td>1.84</td>\n",
       "      <td>0.18</td>\n",
       "      <td>46.51%</td>\n",
       "      <td>174.42%</td>\n",
       "      <td>1.0</td>\n",
       "      <td>1.0</td>\n",
       "    </tr>\n",
       "  </tbody>\n",
       "</table>\n",
       "<p>5 rows × 38 columns</p>\n",
       "</div>"
      ],
      "text/plain": [
       "       Date Location ISO Code     Location  New Cases  New Deaths  \\\n",
       "0  3/1/2020             ID-JK  DKI Jakarta          2           0   \n",
       "1  3/2/2020             ID-JK  DKI Jakarta          2           0   \n",
       "2  3/2/2020               IDN    Indonesia          2           0   \n",
       "3  3/2/2020             ID-RI         Riau          1           0   \n",
       "4  3/3/2020             ID-JK  DKI Jakarta          2           0   \n",
       "\n",
       "   New Recovered  New Active Cases  Total Cases  Total Deaths  \\\n",
       "0              0                 2           39            20   \n",
       "1              0                 2           41            20   \n",
       "2              0                 2            2             0   \n",
       "3              0                 1            1             0   \n",
       "4              0                 2           43            20   \n",
       "\n",
       "   Total Recovered  ...  Latitude New Cases per Million  \\\n",
       "0               75  ... -6.204699                  0.18   \n",
       "1               75  ... -6.204699                  0.18   \n",
       "2                0  ... -0.789275                  0.01   \n",
       "3                1  ...  0.511648                  0.16   \n",
       "4               75  ... -6.204699                  0.18   \n",
       "\n",
       "   Total Cases per Million New Deaths per Million Total Deaths per Million  \\\n",
       "0                     3.60                    0.0                     1.84   \n",
       "1                     3.78                    0.0                     1.84   \n",
       "2                     0.01                    0.0                     0.00   \n",
       "3                     0.16                    0.0                     0.00   \n",
       "4                     3.96                    0.0                     1.84   \n",
       "\n",
       "  Total Deaths per 100rb Case Fatality Rate Case Recovered Rate  \\\n",
       "0                   0.18             51.28%             192.31%   \n",
       "1                   0.18             48.78%             182.93%   \n",
       "2                   0.00              0.00%               0.00%   \n",
       "3                   0.00              0.00%             100.00%   \n",
       "4                   0.18             46.51%             174.42%   \n",
       "\n",
       "  Growth Factor of New Cases  Growth Factor of New Deaths  \n",
       "0                        NaN                          NaN  \n",
       "1                        1.0                          1.0  \n",
       "2                        NaN                          NaN  \n",
       "3                        NaN                          NaN  \n",
       "4                        1.0                          1.0  \n",
       "\n",
       "[5 rows x 38 columns]"
      ]
     },
     "execution_count": 3,
     "metadata": {},
     "output_type": "execute_result"
    }
   ],
   "source": [
    "data = pd.read_csv('./covid_19.csv')\n",
    "data.head()"
   ]
  },
  {
   "cell_type": "code",
   "execution_count": 4,
   "metadata": {},
   "outputs": [
    {
     "name": "stdout",
     "output_type": "stream",
     "text": [
      "<class 'pandas.core.frame.DataFrame'>\n",
      "RangeIndex: 31822 entries, 0 to 31821\n",
      "Data columns (total 38 columns):\n",
      " #   Column                       Non-Null Count  Dtype  \n",
      "---  ------                       --------------  -----  \n",
      " 0   Date                         31822 non-null  object \n",
      " 1   Location ISO Code            31822 non-null  object \n",
      " 2   Location                     31822 non-null  object \n",
      " 3   New Cases                    31822 non-null  int64  \n",
      " 4   New Deaths                   31822 non-null  int64  \n",
      " 5   New Recovered                31822 non-null  int64  \n",
      " 6   New Active Cases             31822 non-null  int64  \n",
      " 7   Total Cases                  31822 non-null  int64  \n",
      " 8   Total Deaths                 31822 non-null  int64  \n",
      " 9   Total Recovered              31822 non-null  int64  \n",
      " 10  Total Active Cases           31822 non-null  int64  \n",
      " 11  Location Level               31822 non-null  object \n",
      " 12  City or Regency              0 non-null      float64\n",
      " 13  Province                     30893 non-null  object \n",
      " 14  Country                      31822 non-null  object \n",
      " 15  Continent                    31822 non-null  object \n",
      " 16  Island                       30893 non-null  object \n",
      " 17  Time Zone                    30893 non-null  object \n",
      " 18  Special Status               4558 non-null   object \n",
      " 19  Total Regencies              31822 non-null  int64  \n",
      " 20  Total Cities                 30921 non-null  float64\n",
      " 21  Total Districts              31822 non-null  int64  \n",
      " 22  Total Urban Villages         30918 non-null  float64\n",
      " 23  Total Rural Villages         30893 non-null  float64\n",
      " 24  Area (km2)                   31822 non-null  int64  \n",
      " 25  Population                   31822 non-null  int64  \n",
      " 26  Population Density           31822 non-null  float64\n",
      " 27  Longitude                    31822 non-null  float64\n",
      " 28  Latitude                     31822 non-null  float64\n",
      " 29  New Cases per Million        31822 non-null  float64\n",
      " 30  Total Cases per Million      31822 non-null  float64\n",
      " 31  New Deaths per Million       31822 non-null  float64\n",
      " 32  Total Deaths per Million     31822 non-null  float64\n",
      " 33  Total Deaths per 100rb       31822 non-null  float64\n",
      " 34  Case Fatality Rate           31822 non-null  object \n",
      " 35  Case Recovered Rate          31822 non-null  object \n",
      " 36  Growth Factor of New Cases   29883 non-null  float64\n",
      " 37  Growth Factor of New Deaths  28375 non-null  float64\n",
      "dtypes: float64(14), int64(12), object(12)\n",
      "memory usage: 9.2+ MB\n"
     ]
    }
   ],
   "source": [
    "data.info()"
   ]
  },
  {
   "cell_type": "code",
   "execution_count": 5,
   "metadata": {},
   "outputs": [
    {
     "data": {
      "text/plain": [
       "0   2020-03-01\n",
       "1   2020-03-02\n",
       "2   2020-03-02\n",
       "3   2020-03-02\n",
       "4   2020-03-03\n",
       "Name: Date, dtype: datetime64[ns]"
      ]
     },
     "execution_count": 5,
     "metadata": {},
     "output_type": "execute_result"
    }
   ],
   "source": [
    "data['Date'] = data['Date'].map(parser.parse)\n",
    "data['Date'].head()"
   ]
  },
  {
   "cell_type": "code",
   "execution_count": 6,
   "metadata": {},
   "outputs": [
    {
     "name": "stdout",
     "output_type": "stream",
     "text": [
      "<class 'pandas.core.frame.DataFrame'>\n",
      "RangeIndex: 31822 entries, 0 to 31821\n",
      "Data columns (total 38 columns):\n",
      " #   Column                       Non-Null Count  Dtype         \n",
      "---  ------                       --------------  -----         \n",
      " 0   Date                         31822 non-null  datetime64[ns]\n",
      " 1   Location ISO Code            31822 non-null  object        \n",
      " 2   Location                     31822 non-null  object        \n",
      " 3   New Cases                    31822 non-null  int64         \n",
      " 4   New Deaths                   31822 non-null  int64         \n",
      " 5   New Recovered                31822 non-null  int64         \n",
      " 6   New Active Cases             31822 non-null  int64         \n",
      " 7   Total Cases                  31822 non-null  int64         \n",
      " 8   Total Deaths                 31822 non-null  int64         \n",
      " 9   Total Recovered              31822 non-null  int64         \n",
      " 10  Total Active Cases           31822 non-null  int64         \n",
      " 11  Location Level               31822 non-null  object        \n",
      " 12  City or Regency              0 non-null      float64       \n",
      " 13  Province                     30893 non-null  object        \n",
      " 14  Country                      31822 non-null  object        \n",
      " 15  Continent                    31822 non-null  object        \n",
      " 16  Island                       30893 non-null  object        \n",
      " 17  Time Zone                    30893 non-null  object        \n",
      " 18  Special Status               4558 non-null   object        \n",
      " 19  Total Regencies              31822 non-null  int64         \n",
      " 20  Total Cities                 30921 non-null  float64       \n",
      " 21  Total Districts              31822 non-null  int64         \n",
      " 22  Total Urban Villages         30918 non-null  float64       \n",
      " 23  Total Rural Villages         30893 non-null  float64       \n",
      " 24  Area (km2)                   31822 non-null  int64         \n",
      " 25  Population                   31822 non-null  int64         \n",
      " 26  Population Density           31822 non-null  float64       \n",
      " 27  Longitude                    31822 non-null  float64       \n",
      " 28  Latitude                     31822 non-null  float64       \n",
      " 29  New Cases per Million        31822 non-null  float64       \n",
      " 30  Total Cases per Million      31822 non-null  float64       \n",
      " 31  New Deaths per Million       31822 non-null  float64       \n",
      " 32  Total Deaths per Million     31822 non-null  float64       \n",
      " 33  Total Deaths per 100rb       31822 non-null  float64       \n",
      " 34  Case Fatality Rate           31822 non-null  object        \n",
      " 35  Case Recovered Rate          31822 non-null  object        \n",
      " 36  Growth Factor of New Cases   29883 non-null  float64       \n",
      " 37  Growth Factor of New Deaths  28375 non-null  float64       \n",
      "dtypes: datetime64[ns](1), float64(14), int64(12), object(11)\n",
      "memory usage: 9.2+ MB\n"
     ]
    }
   ],
   "source": [
    "data.info()"
   ]
  },
  {
   "cell_type": "markdown",
   "metadata": {},
   "source": [
    "Cek date time yang di gunakan"
   ]
  },
  {
   "cell_type": "code",
   "execution_count": 6,
   "metadata": {},
   "outputs": [
    {
     "data": {
      "text/plain": [
       "(Timestamp('2020-03-01 00:00:00'), 1583020800000000000)"
      ]
     },
     "execution_count": 6,
     "metadata": {},
     "output_type": "execute_result"
    }
   ],
   "source": [
    "data['Date'][0], data['Date'][0].value"
   ]
  },
  {
   "cell_type": "markdown",
   "metadata": {},
   "source": [
    "format timezone yang bisa di gunakan"
   ]
  },
  {
   "cell_type": "code",
   "execution_count": 7,
   "metadata": {},
   "outputs": [
    {
     "data": {
      "text/plain": [
       "LazySet({'Europe/Kiev', 'America/Adak', 'Africa/Casablanca', 'America/Ensenada', 'America/Inuvik', 'Antarctica/Syowa', 'Africa/Bujumbura', 'Europe/Podgorica', 'America/Campo_Grande', 'Europe/Tirane', 'Pacific/Auckland', 'America/Blanc-Sablon', 'Europe/Rome', 'America/Bahia_Banderas', 'Antarctica/Troll', 'Europe/Jersey', 'Asia/Hovd', 'America/Creston', 'Etc/GMT-0', 'W-SU', 'America/Metlakatla', 'EET', 'Europe/Zurich', 'US/Central', 'Pacific/Fiji', 'Africa/Addis_Ababa', 'America/Havana', 'Asia/Singapore', 'Etc/UCT', 'Arctic/Longyearbyen', 'Europe/Dublin', 'Pacific/Tahiti', 'Antarctica/Casey', 'Africa/Kampala', 'America/North_Dakota/New_Salem', 'America/Indianapolis', 'UCT', 'America/Dawson_Creek', 'Australia/Perth', 'PRC', 'America/Indiana/Vincennes', 'Etc/GMT+1', 'Europe/Tiraspol', 'Antarctica/South_Pole', 'America/Ciudad_Juarez', 'America/Antigua', 'Europe/Busingen', 'Pacific/Saipan', 'Atlantic/St_Helena', 'Africa/Djibouti', 'Africa/Asmara', 'America/Kralendijk', 'America/Argentina/Catamarca', 'Asia/Harbin', 'GB', 'Pacific/Guadalcanal', 'Asia/Urumqi', 'Pacific/Efate', 'America/Godthab', 'Pacific/Pohnpei', 'Asia/Gaza', 'America/Virgin', 'Europe/Kaliningrad', 'America/Port-au-Prince', 'America/Resolute', 'Asia/Taipei', 'Etc/GMT+12', 'America/Argentina/Salta', 'America/Boa_Vista', 'EST', 'Cuba', 'America/Argentina/San_Luis', 'Asia/Makassar', 'Asia/Vientiane', 'America/Argentina/Ushuaia', 'Navajo', 'America/Maceio', 'Etc/GMT-7', 'Asia/Dili', 'Atlantic/Faroe', 'Etc/GMT-5', 'Europe/Guernsey', 'Asia/Dacca', 'Europe/Sofia', 'America/Montreal', 'America/Curacao', 'Europe/Athens', 'Europe/Stockholm', 'Antarctica/Palmer', 'Jamaica', 'Asia/Anadyr', 'America/Argentina/Rio_Gallegos', 'America/St_Vincent', 'Canada/Mountain', 'Europe/Vienna', 'America/Ojinaga', 'Pacific/Majuro', 'Africa/Kigali', 'America/Danmarkshavn', 'EST5EDT', 'Australia/Broken_Hill', 'Europe/Kyiv', 'Australia/Hobart', 'Africa/Nairobi', 'America/Tijuana', 'Atlantic/South_Georgia', 'Asia/Atyrau', 'Asia/Qatar', 'Europe/Sarajevo', 'Asia/Tashkent', 'Europe/Mariehamn', 'America/Chicago', 'Europe/Belfast', 'Brazil/Acre', 'Japan', 'Pacific/Yap', 'America/Boise', 'Antarctica/Davis', 'MST7MDT', 'America/Scoresbysund', 'Africa/Conakry', 'America/Winnipeg', 'Etc/GMT-3', 'Asia/Samarkand', 'America/Barbados', 'Asia/Baku', 'Asia/Beirut', 'America/Araguaina', 'Asia/Pyongyang', 'America/Cambridge_Bay', 'America/Rankin_Inlet', 'America/Los_Angeles', 'PST8PDT', 'Asia/Baghdad', 'Asia/Karachi', 'Asia/Qyzylorda', 'Europe/Skopje', 'US/Mountain', 'America/Santa_Isabel', 'America/Porto_Acre', 'Pacific/Palau', 'America/Dawson', 'America/Chihuahua', 'Africa/Algiers', 'Asia/Riyadh', 'Brazil/DeNoronha', 'Africa/Khartoum', 'Asia/Amman', 'America/Glace_Bay', 'Egypt', 'Asia/Almaty', 'HST', 'Asia/Ashkhabad', 'Indian/Christmas', 'US/East-Indiana', 'Asia/Jerusalem', 'Etc/UTC', 'America/Coral_Harbour', 'Africa/Gaborone', 'Asia/Kabul', 'Africa/Sao_Tome', 'Canada/Atlantic', 'Pacific/Kiritimati', 'America/St_Barthelemy', 'Pacific/Honolulu', 'America/Denver', 'Antarctica/Macquarie', 'America/Matamoros', 'Asia/Ujung_Pandang', 'Asia/Omsk', 'Europe/Vatican', 'Atlantic/Azores', 'Europe/Uzhgorod', 'Europe/Berlin', 'America/Regina', 'America/Pangnirtung', 'Australia/Sydney', 'ROC', 'America/Rainy_River', 'Africa/Brazzaville', 'Asia/Muscat', 'Australia/South', 'America/Shiprock', 'America/Toronto', 'America/St_Thomas', 'America/Porto_Velho', 'Etc/GMT+2', 'Asia/Choibalsan', 'Africa/Accra', 'US/Samoa', 'Asia/Srednekolymsk', 'Europe/Amsterdam', 'America/Montserrat', 'Etc/Greenwich', 'Kwajalein', 'America/Rosario', 'Australia/Darwin', 'Asia/Hong_Kong', 'Canada/Newfoundland', 'Asia/Thimphu', 'America/Sao_Paulo', 'GMT+0', 'Asia/Tbilisi', 'Europe/Saratov', 'Iran', 'Atlantic/Reykjavik', 'Asia/Kuala_Lumpur', 'Asia/Chungking', 'Etc/GMT+7', 'Asia/Chongqing', 'Mexico/BajaSur', 'Asia/Calcutta', 'Asia/Novokuznetsk', 'America/Punta_Arenas', 'Asia/Ulaanbaatar', 'America/Merida', 'Europe/Helsinki', 'Africa/El_Aaiun', 'Antarctica/DumontDUrville', 'US/Pacific', 'Africa/Lubumbashi', 'Europe/Minsk', 'Australia/Lindeman', 'Pacific/Chuuk', 'America/Bogota', 'Etc/GMT-10', 'America/Guyana', 'Indian/Mahe', 'Antarctica/McMurdo', 'Pacific/Kanton', 'Pacific/Wallis', 'Etc/Zulu', 'US/Alaska', 'Etc/GMT-4', 'Europe/San_Marino', 'America/Caracas', 'America/Monterrey', 'Africa/Maputo', 'Mexico/BajaNorte', 'Africa/Asmera', 'Etc/GMT+5', 'Australia/Queensland', 'America/Marigot', 'ROK', 'America/Kentucky/Monticello', 'US/Eastern', 'America/Belize', 'MST', 'Pacific/Funafuti', 'America/New_York', 'US/Aleutian', 'Africa/Juba', 'America/Jujuy', 'America/Cayenne', 'Australia/Brisbane', 'America/Menominee', 'America/Catamarca', 'Brazil/West', 'Australia/NSW', 'America/St_Lucia', 'Asia/Katmandu', 'Europe/Prague', 'Indian/Mauritius', 'America/Miquelon', 'Pacific/Nauru', 'Europe/Volgograd', 'Etc/GMT+6', 'Australia/Melbourne', 'Atlantic/Stanley', 'America/Fortaleza', 'Etc/GMT-1', 'Pacific/Pago_Pago', 'America/Argentina/San_Juan', 'WET', 'America/Eirunepe', 'America/Vancouver', 'Atlantic/Jan_Mayen', 'America/Argentina/Jujuy', 'Poland', 'Europe/Andorra', 'Mexico/General', 'Asia/Ust-Nera', 'Africa/Bamako', 'America/Nuuk', 'Asia/Brunei', 'Europe/Warsaw', 'Pacific/Bougainville', 'America/Anguilla', 'Etc/GMT+10', 'Europe/Ljubljana', 'Chile/EasterIsland', 'Canada/Saskatchewan', 'Asia/Rangoon', 'America/Louisville', 'America/Atka', 'America/Argentina/Mendoza', 'America/Indiana/Vevay', 'Pacific/Pitcairn', 'America/El_Salvador', 'America/Detroit', 'Europe/Samara', 'America/Santo_Domingo', 'Asia/Famagusta', 'America/Jamaica', 'Antarctica/Rothera', 'Australia/West', 'Europe/Lisbon', 'Asia/Novosibirsk', 'Europe/Bratislava', 'America/Kentucky/Louisville', 'Europe/Moscow', 'Asia/Magadan', 'Africa/Mogadishu', 'America/Moncton', 'Africa/Timbuktu', 'America/Guadeloupe', 'America/Juneau', 'Chile/Continental', 'America/St_Johns', 'Asia/Khandyga', 'Europe/Gibraltar', 'Australia/Lord_Howe', 'America/Noronha', 'Asia/Aqtobe', 'Africa/Bissau', 'Asia/Jayapura', 'Europe/Malta', 'Etc/GMT-13', 'Pacific/Easter', 'Africa/Cairo', 'America/Indiana/Marengo', 'Asia/Kuching', 'Zulu', 'Asia/Krasnoyarsk', 'Indian/Chagos', 'America/Fort_Nelson', 'Asia/Tomsk', 'America/Rio_Branco', 'Europe/London', 'Africa/Lusaka', 'Asia/Colombo', 'Asia/Yerevan', 'Africa/Porto-Novo', 'America/Guayaquil', 'Etc/GMT0', 'America/Edmonton', 'Europe/Luxembourg', 'Asia/Qostanay', 'Indian/Cocos', 'Africa/Monrovia', 'America/Cancun', 'Asia/Yakutsk', 'America/Yellowknife', 'America/Manaus', 'Australia/Eucla', 'Africa/Abidjan', 'Africa/Bangui', 'America/Cayman', 'America/Iqaluit', 'Indian/Antananarivo', 'America/Halifax', 'Asia/Kashgar', 'Africa/Nouakchott', 'Europe/Tallinn', 'Asia/Kamchatka', 'Europe/Budapest', 'Europe/Nicosia', 'Pacific/Enderbury', 'America/Grenada', 'Atlantic/Canary', 'Europe/Kirov', 'Asia/Jakarta', 'America/Thunder_Bay', 'Australia/Yancowinna', 'Europe/Vaduz', 'Etc/GMT+8', 'Pacific/Midway', 'GB-Eire', 'Pacific/Johnston', 'Asia/Yekaterinburg', 'America/Goose_Bay', 'America/Aruba', 'Asia/Macao', 'Asia/Aqtau', 'Europe/Isle_of_Man', 'Etc/GMT+3', 'GMT', 'Europe/Ulyanovsk', 'Indian/Reunion', 'Pacific/Noumea', 'Europe/Madrid', 'Asia/Bangkok', 'Europe/Paris', 'Pacific/Marquesas', 'Australia/ACT', 'America/Sitka', 'Greenwich', 'Africa/Luanda', 'Etc/GMT+11', 'Africa/Kinshasa', 'Pacific/Rarotonga', 'Turkey', 'America/Indiana/Knox', 'America/Santiago', 'Asia/Oral', 'Etc/GMT+9', 'Africa/Mbabane', 'Antarctica/Vostok', 'Pacific/Tongatapu', 'NZ-CHAT', 'Africa/Lome', 'America/Nome', 'America/Swift_Current', 'Africa/Douala', 'Asia/Saigon', 'America/Managua', 'Asia/Kuwait', 'Pacific/Gambier', 'Etc/GMT-2', 'Africa/Tripoli', 'Pacific/Fakaofo', 'Europe/Simferopol', 'Asia/Pontianak', 'CET', 'Asia/Yangon', 'Pacific/Niue', 'GMT0', 'Asia/Bishkek', 'GMT-0', 'America/Argentina/Buenos_Aires', 'America/Mendoza', 'Pacific/Guam', 'Atlantic/Cape_Verde', 'Indian/Mayotte', 'CST6CDT', 'Atlantic/Faeroe', 'Etc/GMT-9', 'America/Asuncion', 'America/Argentina/ComodRivadavia', 'Libya', 'Hongkong', 'Pacific/Apia', 'Africa/Libreville', 'Africa/Maseru', 'America/North_Dakota/Beulah', 'America/Costa_Rica', 'Africa/Ceuta', 'Pacific/Port_Moresby', 'US/Indiana-Starke', 'Pacific/Norfolk', 'America/Buenos_Aires', 'Africa/Johannesburg', 'America/Hermosillo', 'Australia/Tasmania', 'US/Hawaii', 'Asia/Tehran', 'Canada/Yukon', 'Asia/Chita', 'Indian/Maldives', 'America/Argentina/Cordoba', 'America/Lima', 'Europe/Bucharest', 'Asia/Ulan_Bator', 'Pacific/Wake', 'Europe/Zagreb', 'America/Tegucigalpa', 'Asia/Dubai', 'Pacific/Kwajalein', 'America/Knox_IN', 'Pacific/Kosrae', 'Asia/Sakhalin', 'America/Cordoba', 'Europe/Zaporozhye', 'Europe/Riga', 'Asia/Hebron', 'Asia/Istanbul', 'America/Nassau', 'Africa/Ouagadougou', 'Asia/Tel_Aviv', 'America/Indiana/Indianapolis', 'America/Mazatlan', 'Africa/Lagos', 'Africa/Tunis', 'America/Nipigon', 'MET', 'Asia/Manila', 'Asia/Damascus', 'NZ', 'America/Dominica', 'America/Montevideo', 'Etc/GMT-6', 'Asia/Seoul', 'Universal', 'Australia/Canberra', 'Africa/Ndjamena', 'Canada/Pacific', 'America/Guatemala', 'Etc/Universal', 'Europe/Vilnius', 'America/Phoenix', 'America/Tortola', 'Europe/Chisinau', 'Europe/Monaco', 'Etc/GMT-14', 'America/La_Paz', 'America/Thule', 'America/Puerto_Rico', 'America/Cuiaba', 'Asia/Tokyo', 'America/Atikokan', 'Atlantic/Madeira', 'Europe/Belgrade', 'UTC', 'America/Lower_Princes', 'Singapore', 'Australia/LHI', 'America/Belem', 'Indian/Comoro', 'Eire', 'America/Argentina/Tucuman', 'Etc/GMT+0', 'America/Bahia', 'Pacific/Galapagos', 'Asia/Dhaka', 'Asia/Ashgabat', 'Asia/Phnom_Penh', 'Africa/Dar_es_Salaam', 'Asia/Vladivostok', 'US/Arizona', 'Europe/Istanbul', 'America/Santarem', 'Asia/Dushanbe', 'Atlantic/Bermuda', 'Asia/Irkutsk', 'Etc/GMT+4', 'America/North_Dakota/Center', 'Australia/Victoria', 'Australia/Currie', 'Europe/Oslo', 'Pacific/Truk', 'America/Indiana/Winamac', 'Asia/Kathmandu', 'Asia/Shanghai', 'America/Paramaribo', 'Asia/Bahrain', 'Etc/GMT-12', 'Canada/Eastern', 'Canada/Central', 'America/Fort_Wayne', 'America/Indiana/Petersburg', 'Etc/GMT-8', 'Brazil/East', 'US/Michigan', 'America/Recife', 'Asia/Kolkata', 'America/Anchorage', 'Asia/Ho_Chi_Minh', 'Europe/Copenhagen', 'America/Indiana/Tell_City', 'America/Mexico_City', 'Portugal', 'Africa/Blantyre', 'Antarctica/Mawson', 'Africa/Windhoek', 'Asia/Aden', 'Pacific/Chatham', 'Europe/Astrakhan', 'America/Argentina/La_Rioja', 'America/Yakutat', 'America/St_Kitts', 'Israel', 'Asia/Nicosia', 'America/Martinique', 'Pacific/Samoa', 'Australia/North', 'Africa/Malabo', 'Asia/Barnaul', 'Asia/Macau', 'America/Panama', 'Pacific/Ponape', 'Europe/Brussels', 'Asia/Thimbu', 'Africa/Dakar', 'America/Port_of_Spain', 'America/Whitehorse', 'Africa/Harare', 'Iceland', 'Africa/Banjul', 'Africa/Freetown', 'America/Grand_Turk', 'Australia/Adelaide', 'Indian/Kerguelen', 'Africa/Niamey', 'Etc/GMT-11', 'Etc/GMT', 'Pacific/Tarawa'})"
      ]
     },
     "execution_count": 7,
     "metadata": {},
     "output_type": "execute_result"
    }
   ],
   "source": [
    "pytz.all_timezones_set"
   ]
  },
  {
   "cell_type": "markdown",
   "metadata": {},
   "source": [
    "Melihat Timestmp yang di gunakan"
   ]
  },
  {
   "cell_type": "code",
   "execution_count": 8,
   "metadata": {},
   "outputs": [
    {
     "name": "stdout",
     "output_type": "stream",
     "text": [
      "2020-03-01 00:00:00+00:00 UTC\n",
      "2020-03-01 07:00:00 None\n"
     ]
    }
   ],
   "source": [
    "timezone = pytz.timezone('UTC')\n",
    "epoch_datetime = datetime.datetime.fromtimestamp(\n",
    "    data['Date'][0].value / 1000000000, timezone\n",
    ")\n",
    "\n",
    "non_timezone = datetime.datetime.fromtimestamp(\n",
    "    data['Date'][0].value / 1000000000\n",
    ")\n",
    "\n",
    "print(epoch_datetime, epoch_datetime.tzinfo)\n",
    "print(non_timezone, non_timezone.tzinfo)"
   ]
  },
  {
   "cell_type": "code",
   "execution_count": 9,
   "metadata": {},
   "outputs": [
    {
     "name": "stdout",
     "output_type": "stream",
     "text": [
      "2020-03-01 07:00:00+07:00 Asia/Jakarta\n"
     ]
    }
   ],
   "source": [
    "timezone = pytz.timezone('Asia/Jakarta')\n",
    "epoch_datetime = datetime.datetime.fromtimestamp(\n",
    "    data['Date'][0].value / 1000000000, timezone\n",
    ")\n",
    "\n",
    "non_timezone = datetime.datetime.fromtimestamp(\n",
    "    data['Date'][0].value / 1000000000\n",
    ")\n",
    "\n",
    "print(epoch_datetime, epoch_datetime.tzinfo)"
   ]
  },
  {
   "cell_type": "markdown",
   "metadata": {},
   "source": [
    "Check Duplikasi"
   ]
  },
  {
   "cell_type": "code",
   "execution_count": 10,
   "metadata": {},
   "outputs": [
    {
     "data": {
      "text/html": [
       "<div>\n",
       "<style scoped>\n",
       "    .dataframe tbody tr th:only-of-type {\n",
       "        vertical-align: middle;\n",
       "    }\n",
       "\n",
       "    .dataframe tbody tr th {\n",
       "        vertical-align: top;\n",
       "    }\n",
       "\n",
       "    .dataframe thead th {\n",
       "        text-align: right;\n",
       "    }\n",
       "</style>\n",
       "<table border=\"1\" class=\"dataframe\">\n",
       "  <thead>\n",
       "    <tr style=\"text-align: right;\">\n",
       "      <th></th>\n",
       "      <th>Date</th>\n",
       "      <th>Location ISO Code</th>\n",
       "      <th>Location</th>\n",
       "      <th>New Cases</th>\n",
       "      <th>New Deaths</th>\n",
       "      <th>New Recovered</th>\n",
       "      <th>New Active Cases</th>\n",
       "      <th>Total Cases</th>\n",
       "      <th>Total Deaths</th>\n",
       "      <th>Total Recovered</th>\n",
       "      <th>...</th>\n",
       "      <th>Latitude</th>\n",
       "      <th>New Cases per Million</th>\n",
       "      <th>Total Cases per Million</th>\n",
       "      <th>New Deaths per Million</th>\n",
       "      <th>Total Deaths per Million</th>\n",
       "      <th>Total Deaths per 100rb</th>\n",
       "      <th>Case Fatality Rate</th>\n",
       "      <th>Case Recovered Rate</th>\n",
       "      <th>Growth Factor of New Cases</th>\n",
       "      <th>Growth Factor of New Deaths</th>\n",
       "    </tr>\n",
       "  </thead>\n",
       "  <tbody>\n",
       "    <tr>\n",
       "      <th>1</th>\n",
       "      <td>2020-03-02</td>\n",
       "      <td>ID-JK</td>\n",
       "      <td>DKI Jakarta</td>\n",
       "      <td>2</td>\n",
       "      <td>0</td>\n",
       "      <td>0</td>\n",
       "      <td>2</td>\n",
       "      <td>41</td>\n",
       "      <td>20</td>\n",
       "      <td>75</td>\n",
       "      <td>...</td>\n",
       "      <td>-6.204699</td>\n",
       "      <td>0.18</td>\n",
       "      <td>3.78</td>\n",
       "      <td>0.00</td>\n",
       "      <td>1.84</td>\n",
       "      <td>0.18</td>\n",
       "      <td>48.78%</td>\n",
       "      <td>182.93%</td>\n",
       "      <td>1.00</td>\n",
       "      <td>1.00</td>\n",
       "    </tr>\n",
       "    <tr>\n",
       "      <th>3</th>\n",
       "      <td>2020-03-02</td>\n",
       "      <td>ID-RI</td>\n",
       "      <td>Riau</td>\n",
       "      <td>1</td>\n",
       "      <td>0</td>\n",
       "      <td>0</td>\n",
       "      <td>1</td>\n",
       "      <td>1</td>\n",
       "      <td>0</td>\n",
       "      <td>1</td>\n",
       "      <td>...</td>\n",
       "      <td>0.511648</td>\n",
       "      <td>0.16</td>\n",
       "      <td>0.16</td>\n",
       "      <td>0.00</td>\n",
       "      <td>0.00</td>\n",
       "      <td>0.00</td>\n",
       "      <td>0.00%</td>\n",
       "      <td>100.00%</td>\n",
       "      <td>NaN</td>\n",
       "      <td>NaN</td>\n",
       "    </tr>\n",
       "    <tr>\n",
       "      <th>4</th>\n",
       "      <td>2020-03-03</td>\n",
       "      <td>ID-JK</td>\n",
       "      <td>DKI Jakarta</td>\n",
       "      <td>2</td>\n",
       "      <td>0</td>\n",
       "      <td>0</td>\n",
       "      <td>2</td>\n",
       "      <td>43</td>\n",
       "      <td>20</td>\n",
       "      <td>75</td>\n",
       "      <td>...</td>\n",
       "      <td>-6.204699</td>\n",
       "      <td>0.18</td>\n",
       "      <td>3.96</td>\n",
       "      <td>0.00</td>\n",
       "      <td>1.84</td>\n",
       "      <td>0.18</td>\n",
       "      <td>46.51%</td>\n",
       "      <td>174.42%</td>\n",
       "      <td>1.00</td>\n",
       "      <td>1.00</td>\n",
       "    </tr>\n",
       "    <tr>\n",
       "      <th>5</th>\n",
       "      <td>2020-03-03</td>\n",
       "      <td>IDN</td>\n",
       "      <td>Indonesia</td>\n",
       "      <td>0</td>\n",
       "      <td>0</td>\n",
       "      <td>0</td>\n",
       "      <td>0</td>\n",
       "      <td>2</td>\n",
       "      <td>0</td>\n",
       "      <td>0</td>\n",
       "      <td>...</td>\n",
       "      <td>-0.789275</td>\n",
       "      <td>0.00</td>\n",
       "      <td>0.01</td>\n",
       "      <td>0.00</td>\n",
       "      <td>0.00</td>\n",
       "      <td>0.00</td>\n",
       "      <td>0.00%</td>\n",
       "      <td>0.00%</td>\n",
       "      <td>0.00</td>\n",
       "      <td>1.00</td>\n",
       "    </tr>\n",
       "    <tr>\n",
       "      <th>6</th>\n",
       "      <td>2020-03-03</td>\n",
       "      <td>ID-JB</td>\n",
       "      <td>Jawa Barat</td>\n",
       "      <td>1</td>\n",
       "      <td>1</td>\n",
       "      <td>0</td>\n",
       "      <td>0</td>\n",
       "      <td>1</td>\n",
       "      <td>1</td>\n",
       "      <td>60</td>\n",
       "      <td>...</td>\n",
       "      <td>-6.920432</td>\n",
       "      <td>0.02</td>\n",
       "      <td>0.02</td>\n",
       "      <td>0.02</td>\n",
       "      <td>0.02</td>\n",
       "      <td>0.00</td>\n",
       "      <td>100.00%</td>\n",
       "      <td>6000.00%</td>\n",
       "      <td>NaN</td>\n",
       "      <td>NaN</td>\n",
       "    </tr>\n",
       "    <tr>\n",
       "      <th>...</th>\n",
       "      <td>...</td>\n",
       "      <td>...</td>\n",
       "      <td>...</td>\n",
       "      <td>...</td>\n",
       "      <td>...</td>\n",
       "      <td>...</td>\n",
       "      <td>...</td>\n",
       "      <td>...</td>\n",
       "      <td>...</td>\n",
       "      <td>...</td>\n",
       "      <td>...</td>\n",
       "      <td>...</td>\n",
       "      <td>...</td>\n",
       "      <td>...</td>\n",
       "      <td>...</td>\n",
       "      <td>...</td>\n",
       "      <td>...</td>\n",
       "      <td>...</td>\n",
       "      <td>...</td>\n",
       "      <td>...</td>\n",
       "      <td>...</td>\n",
       "    </tr>\n",
       "    <tr>\n",
       "      <th>31817</th>\n",
       "      <td>2022-09-15</td>\n",
       "      <td>ID-SA</td>\n",
       "      <td>Sulawesi Utara</td>\n",
       "      <td>37</td>\n",
       "      <td>0</td>\n",
       "      <td>0</td>\n",
       "      <td>37</td>\n",
       "      <td>52770</td>\n",
       "      <td>1213</td>\n",
       "      <td>50997</td>\n",
       "      <td>...</td>\n",
       "      <td>1.259638</td>\n",
       "      <td>14.01</td>\n",
       "      <td>19974.38</td>\n",
       "      <td>0.00</td>\n",
       "      <td>459.14</td>\n",
       "      <td>45.91</td>\n",
       "      <td>2.30%</td>\n",
       "      <td>96.64%</td>\n",
       "      <td>2.85</td>\n",
       "      <td>1.00</td>\n",
       "    </tr>\n",
       "    <tr>\n",
       "      <th>31818</th>\n",
       "      <td>2022-09-15</td>\n",
       "      <td>ID-SB</td>\n",
       "      <td>Sumatera Barat</td>\n",
       "      <td>13</td>\n",
       "      <td>0</td>\n",
       "      <td>3</td>\n",
       "      <td>10</td>\n",
       "      <td>104640</td>\n",
       "      <td>2371</td>\n",
       "      <td>102066</td>\n",
       "      <td>...</td>\n",
       "      <td>-0.850253</td>\n",
       "      <td>2.36</td>\n",
       "      <td>18959.11</td>\n",
       "      <td>0.00</td>\n",
       "      <td>429.59</td>\n",
       "      <td>42.96</td>\n",
       "      <td>2.27%</td>\n",
       "      <td>97.54%</td>\n",
       "      <td>6.50</td>\n",
       "      <td>1.00</td>\n",
       "    </tr>\n",
       "    <tr>\n",
       "      <th>31819</th>\n",
       "      <td>2022-09-15</td>\n",
       "      <td>ID-SS</td>\n",
       "      <td>Sumatera Selatan</td>\n",
       "      <td>16</td>\n",
       "      <td>0</td>\n",
       "      <td>1</td>\n",
       "      <td>15</td>\n",
       "      <td>82198</td>\n",
       "      <td>3376</td>\n",
       "      <td>78510</td>\n",
       "      <td>...</td>\n",
       "      <td>-3.216212</td>\n",
       "      <td>1.95</td>\n",
       "      <td>10002.74</td>\n",
       "      <td>0.00</td>\n",
       "      <td>410.83</td>\n",
       "      <td>41.08</td>\n",
       "      <td>4.11%</td>\n",
       "      <td>95.51%</td>\n",
       "      <td>3.20</td>\n",
       "      <td>1.00</td>\n",
       "    </tr>\n",
       "    <tr>\n",
       "      <th>31820</th>\n",
       "      <td>2022-09-15</td>\n",
       "      <td>ID-SU</td>\n",
       "      <td>Sumatera Utara</td>\n",
       "      <td>50</td>\n",
       "      <td>0</td>\n",
       "      <td>5</td>\n",
       "      <td>45</td>\n",
       "      <td>158866</td>\n",
       "      <td>3288</td>\n",
       "      <td>154924</td>\n",
       "      <td>...</td>\n",
       "      <td>2.191894</td>\n",
       "      <td>3.36</td>\n",
       "      <td>10680.15</td>\n",
       "      <td>0.00</td>\n",
       "      <td>221.04</td>\n",
       "      <td>22.10</td>\n",
       "      <td>2.07%</td>\n",
       "      <td>97.52%</td>\n",
       "      <td>1.92</td>\n",
       "      <td>1.00</td>\n",
       "    </tr>\n",
       "    <tr>\n",
       "      <th>31821</th>\n",
       "      <td>2022-09-16</td>\n",
       "      <td>IDN</td>\n",
       "      <td>Indonesia</td>\n",
       "      <td>2358</td>\n",
       "      <td>27</td>\n",
       "      <td>2997</td>\n",
       "      <td>-666</td>\n",
       "      <td>6405044</td>\n",
       "      <td>157876</td>\n",
       "      <td>6218708</td>\n",
       "      <td>...</td>\n",
       "      <td>-0.789275</td>\n",
       "      <td>8.89</td>\n",
       "      <td>24153.07</td>\n",
       "      <td>0.10</td>\n",
       "      <td>595.34</td>\n",
       "      <td>59.53</td>\n",
       "      <td>2.46%</td>\n",
       "      <td>97.09%</td>\n",
       "      <td>0.89</td>\n",
       "      <td>1.29</td>\n",
       "    </tr>\n",
       "  </tbody>\n",
       "</table>\n",
       "<p>31818 rows × 38 columns</p>\n",
       "</div>"
      ],
      "text/plain": [
       "            Date Location ISO Code          Location  New Cases  New Deaths  \\\n",
       "1     2020-03-02             ID-JK       DKI Jakarta          2           0   \n",
       "3     2020-03-02             ID-RI              Riau          1           0   \n",
       "4     2020-03-03             ID-JK       DKI Jakarta          2           0   \n",
       "5     2020-03-03               IDN         Indonesia          0           0   \n",
       "6     2020-03-03             ID-JB        Jawa Barat          1           1   \n",
       "...          ...               ...               ...        ...         ...   \n",
       "31817 2022-09-15             ID-SA    Sulawesi Utara         37           0   \n",
       "31818 2022-09-15             ID-SB    Sumatera Barat         13           0   \n",
       "31819 2022-09-15             ID-SS  Sumatera Selatan         16           0   \n",
       "31820 2022-09-15             ID-SU    Sumatera Utara         50           0   \n",
       "31821 2022-09-16               IDN         Indonesia       2358          27   \n",
       "\n",
       "       New Recovered  New Active Cases  Total Cases  Total Deaths  \\\n",
       "1                  0                 2           41            20   \n",
       "3                  0                 1            1             0   \n",
       "4                  0                 2           43            20   \n",
       "5                  0                 0            2             0   \n",
       "6                  0                 0            1             1   \n",
       "...              ...               ...          ...           ...   \n",
       "31817              0                37        52770          1213   \n",
       "31818              3                10       104640          2371   \n",
       "31819              1                15        82198          3376   \n",
       "31820              5                45       158866          3288   \n",
       "31821           2997              -666      6405044        157876   \n",
       "\n",
       "       Total Recovered  ...  Latitude New Cases per Million  \\\n",
       "1                   75  ... -6.204699                  0.18   \n",
       "3                    1  ...  0.511648                  0.16   \n",
       "4                   75  ... -6.204699                  0.18   \n",
       "5                    0  ... -0.789275                  0.00   \n",
       "6                   60  ... -6.920432                  0.02   \n",
       "...                ...  ...       ...                   ...   \n",
       "31817            50997  ...  1.259638                 14.01   \n",
       "31818           102066  ... -0.850253                  2.36   \n",
       "31819            78510  ... -3.216212                  1.95   \n",
       "31820           154924  ...  2.191894                  3.36   \n",
       "31821          6218708  ... -0.789275                  8.89   \n",
       "\n",
       "       Total Cases per Million New Deaths per Million  \\\n",
       "1                         3.78                   0.00   \n",
       "3                         0.16                   0.00   \n",
       "4                         3.96                   0.00   \n",
       "5                         0.01                   0.00   \n",
       "6                         0.02                   0.02   \n",
       "...                        ...                    ...   \n",
       "31817                 19974.38                   0.00   \n",
       "31818                 18959.11                   0.00   \n",
       "31819                 10002.74                   0.00   \n",
       "31820                 10680.15                   0.00   \n",
       "31821                 24153.07                   0.10   \n",
       "\n",
       "      Total Deaths per Million Total Deaths per 100rb Case Fatality Rate  \\\n",
       "1                         1.84                   0.18             48.78%   \n",
       "3                         0.00                   0.00              0.00%   \n",
       "4                         1.84                   0.18             46.51%   \n",
       "5                         0.00                   0.00              0.00%   \n",
       "6                         0.02                   0.00            100.00%   \n",
       "...                        ...                    ...                ...   \n",
       "31817                   459.14                  45.91              2.30%   \n",
       "31818                   429.59                  42.96              2.27%   \n",
       "31819                   410.83                  41.08              4.11%   \n",
       "31820                   221.04                  22.10              2.07%   \n",
       "31821                   595.34                  59.53              2.46%   \n",
       "\n",
       "      Case Recovered Rate Growth Factor of New Cases  \\\n",
       "1                 182.93%                       1.00   \n",
       "3                 100.00%                        NaN   \n",
       "4                 174.42%                       1.00   \n",
       "5                   0.00%                       0.00   \n",
       "6                6000.00%                        NaN   \n",
       "...                   ...                        ...   \n",
       "31817              96.64%                       2.85   \n",
       "31818              97.54%                       6.50   \n",
       "31819              95.51%                       3.20   \n",
       "31820              97.52%                       1.92   \n",
       "31821              97.09%                       0.89   \n",
       "\n",
       "       Growth Factor of New Deaths  \n",
       "1                             1.00  \n",
       "3                              NaN  \n",
       "4                             1.00  \n",
       "5                             1.00  \n",
       "6                              NaN  \n",
       "...                            ...  \n",
       "31817                         1.00  \n",
       "31818                         1.00  \n",
       "31819                         1.00  \n",
       "31820                         1.00  \n",
       "31821                         1.29  \n",
       "\n",
       "[31818 rows x 38 columns]"
      ]
     },
     "execution_count": 10,
     "metadata": {},
     "output_type": "execute_result"
    }
   ],
   "source": [
    "data[data['Special Status'].duplicated()]"
   ]
  },
  {
   "cell_type": "code",
   "execution_count": 12,
   "metadata": {},
   "outputs": [
    {
     "name": "stdout",
     "output_type": "stream",
     "text": [
      "<class 'pandas.core.frame.DataFrame'>\n",
      "RangeIndex: 31822 entries, 0 to 31821\n",
      "Data columns (total 38 columns):\n",
      " #   Column                       Non-Null Count  Dtype         \n",
      "---  ------                       --------------  -----         \n",
      " 0   Date                         31822 non-null  datetime64[ns]\n",
      " 1   Location ISO Code            31822 non-null  object        \n",
      " 2   Location                     31822 non-null  object        \n",
      " 3   New Cases                    31822 non-null  int64         \n",
      " 4   New Deaths                   31822 non-null  int64         \n",
      " 5   New Recovered                31822 non-null  int64         \n",
      " 6   New Active Cases             31822 non-null  int64         \n",
      " 7   Total Cases                  31822 non-null  int64         \n",
      " 8   Total Deaths                 31822 non-null  int64         \n",
      " 9   Total Recovered              31822 non-null  int64         \n",
      " 10  Total Active Cases           31822 non-null  int64         \n",
      " 11  Location Level               31822 non-null  object        \n",
      " 12  City or Regency              0 non-null      float64       \n",
      " 13  Province                     30893 non-null  object        \n",
      " 14  Country                      31822 non-null  object        \n",
      " 15  Continent                    31822 non-null  object        \n",
      " 16  Island                       30893 non-null  object        \n",
      " 17  Time Zone                    30893 non-null  object        \n",
      " 18  Special Status               4558 non-null   object        \n",
      " 19  Total Regencies              31822 non-null  int64         \n",
      " 20  Total Cities                 30921 non-null  float64       \n",
      " 21  Total Districts              31822 non-null  int64         \n",
      " 22  Total Urban Villages         30918 non-null  float64       \n",
      " 23  Total Rural Villages         30893 non-null  float64       \n",
      " 24  Area (km2)                   31822 non-null  int64         \n",
      " 25  Population                   31822 non-null  int64         \n",
      " 26  Population Density           31822 non-null  float64       \n",
      " 27  Longitude                    31822 non-null  float64       \n",
      " 28  Latitude                     31822 non-null  float64       \n",
      " 29  New Cases per Million        31822 non-null  float64       \n",
      " 30  Total Cases per Million      31822 non-null  float64       \n",
      " 31  New Deaths per Million       31822 non-null  float64       \n",
      " 32  Total Deaths per Million     31822 non-null  float64       \n",
      " 33  Total Deaths per 100rb       31822 non-null  float64       \n",
      " 34  Case Fatality Rate           31822 non-null  object        \n",
      " 35  Case Recovered Rate          31822 non-null  object        \n",
      " 36  Growth Factor of New Cases   29883 non-null  float64       \n",
      " 37  Growth Factor of New Deaths  28375 non-null  float64       \n",
      "dtypes: datetime64[ns](1), float64(14), int64(12), object(11)\n",
      "memory usage: 9.2+ MB\n"
     ]
    }
   ],
   "source": [
    "data.info()"
   ]
  },
  {
   "cell_type": "markdown",
   "metadata": {},
   "source": [
    "Mencari kota dengan koordinat yang tepat"
   ]
  },
  {
   "cell_type": "code",
   "execution_count": 12,
   "metadata": {},
   "outputs": [],
   "source": [
    "def lokasi(latitude, longitude):\n",
    "    geolocator = Nominatim(user_agent='lokasi')\n",
    "    loc = geolocator.reverse((latitude, longitude))\n",
    "    if 'county' in loc.raw['address']:\n",
    "        return loc.raw['address']['county']\n",
    "    elif 'city' in loc.raw['address']:\n",
    "        return loc.raw['address']['city']"
   ]
  },
  {
   "cell_type": "code",
   "execution_count": 15,
   "metadata": {},
   "outputs": [
    {
     "data": {
      "text/plain": [
       "'Daerah Khusus ibukota Jakarta'"
      ]
     },
     "execution_count": 15,
     "metadata": {},
     "output_type": "execute_result"
    }
   ],
   "source": [
    "lokasi(-6.204698991 , 106.8361183)"
   ]
  },
  {
   "cell_type": "code",
   "execution_count": 13,
   "metadata": {},
   "outputs": [
    {
     "name": "stdout",
     "output_type": "stream",
     "text": [
      "{'-6.204698991 , 106.8361183': 'Daerah Khusus ibukota Jakarta', '-0.789275 , 113.921327': 'Kapuas', '0.511647851 , 101.8051092': 'Siak', '-6.920432083 , 107.6037083': 'Bandung', '-6.456736388 , 106.1090043': 'Lebak', '-7.259097177 , 110.2011149': 'Temanggung', '-4.124688793 , 122.070311': 'Konawe Selatan', '-8.369471688 , 115.1317136': 'Tabanan', '0.45385803 , 116.4684405': 'Kutai Timur', '-7.89450185 , 110.4448783': None, '2.191894453 , 99.05196442': 'Tapanuli Utara', '-7.723345579 , 112.7329414': 'Pasuruan', '3.916346 , 108.261746': 'Natuna', '-3.731080714 , 120.1620559': None, '-1.69769766 , 102.7236404': 'Tebo', '-3.192572 , 129.576792': 'Maluku Tengah', '-4.66620953 , 138.69603': 'Nduga', '0.212036949 , 127.5391072': None, '-3.216211808 , 104.1694647': 'Penukal Abab Lematang Ilir', '4.225614628 , 96.91052174': 'Aceh Tengah', '-1.602484653 , 113.4176536': 'Katingan', '-4.916792975 , 105.0214366': 'Lampung Utara', '-1.00413668 , 121.2010927': None, '1.259638212 , 124.5212396': 'Minahasa Selatan', '-0.850253225 , 100.4650624': 'Padang', '-2.045160182 , 132.9762624': None, '2.891012621 , 116.2188791': 'Malinau', '-2.461746053 , 119.3450194': 'Mamuju', '-0.086474572 , 111.1211776': 'Sekadau', '-2.993594979 , 115.4385783': 'Banjar', '-2.447444127 , 106.5499324': None, '-3.533583627 , 102.3384213': 'Bengkulu Tengah', '-8.606998866 , 117.5086257': None, '-8.682205 , 121.592271': 'Ende', '0.687002604 , 122.3760581': 'Boalemo'}\n"
     ]
    }
   ],
   "source": [
    "Coordinate = {}\n",
    "for index,row in data.iterrows():\n",
    "    if f\"{row['Latitude']} , {row['Longitude']}\" not in Coordinate:\n",
    "        city = lokasi(row['Latitude'], row['Longitude'])\n",
    "        Coordinate[f\"{row['Latitude']} , {row['Longitude']}\"] = city\n",
    "print(Coordinate)"
   ]
  },
  {
   "cell_type": "code",
   "execution_count": 52,
   "metadata": {},
   "outputs": [],
   "source": [
    "for index,row in data.iterrows():\n",
    "    if row['Location Level'] != 'Country':\n",
    "        if f\"{row['Latitude']} , {row['Longitude']}\" in city_code.keys():\n",
    "            data.loc[index, 'City or Regency'] = city_code[f\"{row['Latitude']} , {row['Longitude']}\"]"
   ]
  },
  {
   "cell_type": "code",
   "execution_count": 31,
   "metadata": {},
   "outputs": [
    {
     "data": {
      "text/html": [
       "<div>\n",
       "<style scoped>\n",
       "    .dataframe tbody tr th:only-of-type {\n",
       "        vertical-align: middle;\n",
       "    }\n",
       "\n",
       "    .dataframe tbody tr th {\n",
       "        vertical-align: top;\n",
       "    }\n",
       "\n",
       "    .dataframe thead th {\n",
       "        text-align: right;\n",
       "    }\n",
       "</style>\n",
       "<table border=\"1\" class=\"dataframe\">\n",
       "  <thead>\n",
       "    <tr style=\"text-align: right;\">\n",
       "      <th></th>\n",
       "      <th>Location</th>\n",
       "      <th>City or Regency</th>\n",
       "    </tr>\n",
       "  </thead>\n",
       "  <tbody>\n",
       "    <tr>\n",
       "      <th>0</th>\n",
       "      <td>DKI Jakarta</td>\n",
       "      <td>Daerah Khusus ibukota Jakarta</td>\n",
       "    </tr>\n",
       "    <tr>\n",
       "      <th>1</th>\n",
       "      <td>DKI Jakarta</td>\n",
       "      <td>Daerah Khusus ibukota Jakarta</td>\n",
       "    </tr>\n",
       "    <tr>\n",
       "      <th>2</th>\n",
       "      <td>Indonesia</td>\n",
       "      <td>None</td>\n",
       "    </tr>\n",
       "    <tr>\n",
       "      <th>3</th>\n",
       "      <td>Riau</td>\n",
       "      <td>Siak</td>\n",
       "    </tr>\n",
       "    <tr>\n",
       "      <th>4</th>\n",
       "      <td>DKI Jakarta</td>\n",
       "      <td>Daerah Khusus ibukota Jakarta</td>\n",
       "    </tr>\n",
       "    <tr>\n",
       "      <th>...</th>\n",
       "      <td>...</td>\n",
       "      <td>...</td>\n",
       "    </tr>\n",
       "    <tr>\n",
       "      <th>31817</th>\n",
       "      <td>Sulawesi Utara</td>\n",
       "      <td>Minahasa Selatan</td>\n",
       "    </tr>\n",
       "    <tr>\n",
       "      <th>31818</th>\n",
       "      <td>Sumatera Barat</td>\n",
       "      <td>Padang</td>\n",
       "    </tr>\n",
       "    <tr>\n",
       "      <th>31819</th>\n",
       "      <td>Sumatera Selatan</td>\n",
       "      <td>Penukal Abab Lematang Ilir</td>\n",
       "    </tr>\n",
       "    <tr>\n",
       "      <th>31820</th>\n",
       "      <td>Sumatera Utara</td>\n",
       "      <td>Tapanuli Utara</td>\n",
       "    </tr>\n",
       "    <tr>\n",
       "      <th>31821</th>\n",
       "      <td>Indonesia</td>\n",
       "      <td>None</td>\n",
       "    </tr>\n",
       "  </tbody>\n",
       "</table>\n",
       "<p>31822 rows × 2 columns</p>\n",
       "</div>"
      ],
      "text/plain": [
       "               Location                City or Regency\n",
       "0           DKI Jakarta  Daerah Khusus ibukota Jakarta\n",
       "1           DKI Jakarta  Daerah Khusus ibukota Jakarta\n",
       "2             Indonesia                           None\n",
       "3                  Riau                           Siak\n",
       "4           DKI Jakarta  Daerah Khusus ibukota Jakarta\n",
       "...                 ...                            ...\n",
       "31817    Sulawesi Utara               Minahasa Selatan\n",
       "31818    Sumatera Barat                         Padang\n",
       "31819  Sumatera Selatan     Penukal Abab Lematang Ilir\n",
       "31820    Sumatera Utara                 Tapanuli Utara\n",
       "31821         Indonesia                           None\n",
       "\n",
       "[31822 rows x 2 columns]"
      ]
     },
     "execution_count": 31,
     "metadata": {},
     "output_type": "execute_result"
    }
   ],
   "source": [
    "city = db.query(\"SELECT Location, \\\"City or Regency\\\"  FROM data\")\n",
    "city.df()"
   ]
  },
  {
   "cell_type": "markdown",
   "metadata": {},
   "source": [
    "5 lokasi dengan kasus covid terbanyak"
   ]
  },
  {
   "cell_type": "code",
   "execution_count": 17,
   "metadata": {},
   "outputs": [],
   "source": [
    "filtered_data = db.query(\"SELECT * FROM data WHERE NOT \\\"Location Level\\\" = 'Country'\")\n",
    "new_data = filtered_data.df()"
   ]
  },
  {
   "cell_type": "code",
   "execution_count": 18,
   "metadata": {},
   "outputs": [
    {
     "data": {
      "text/plain": [
       "Location\n",
       "DKI Jakarta    1412511\n",
       "Jawa Barat     1173731\n",
       "Jawa Tengah     636409\n",
       "Jawa Timur      601545\n",
       "Banten          333875\n",
       "Name: Total Cases, dtype: int64"
      ]
     },
     "execution_count": 18,
     "metadata": {},
     "output_type": "execute_result"
    }
   ],
   "source": [
    "top_5 = new_data.groupby('Location')['Total Cases'].max().sort_values(ascending=False).head(5)\n",
    "top_5"
   ]
  },
  {
   "cell_type": "code",
   "execution_count": 19,
   "metadata": {},
   "outputs": [
    {
     "data": {
      "text/plain": [
       "Text(0, 0.5, 'Total Cases')"
      ]
     },
     "execution_count": 19,
     "metadata": {},
     "output_type": "execute_result"
    },
    {
     "data": {
      "image/png": "[encoded data removed]",
      "text/plain": [
       "<Figure size 640x480 with 1 Axes>"
      ]
     },
     "metadata": {},
     "output_type": "display_data"
    }
   ],
   "source": [
    "sns.barplot(x=top_5.index, y=top_5.values)\n",
    "plt.xlabel('Location')\n",
    "plt.ylabel('Total Cases')"
   ]
  },
  {
   "cell_type": "code",
   "execution_count": 20,
   "metadata": {},
   "outputs": [],
   "source": [
    "data['Date'] = pd.to_datetime(data['Date'])"
   ]
  },
  {
   "cell_type": "code",
   "execution_count": 21,
   "metadata": {},
   "outputs": [
    {
     "data": {
      "text/plain": [
       "Date\n",
       "2020-03-01       2\n",
       "2020-03-02       3\n",
       "2020-03-03       3\n",
       "2020-03-04       3\n",
       "2020-03-05       1\n",
       "              ... \n",
       "2022-09-11    1939\n",
       "2022-09-12     147\n",
       "2022-09-13     191\n",
       "2022-09-14    1900\n",
       "2022-09-15    2642\n",
       "Name: New Cases, Length: 929, dtype: int64"
      ]
     },
     "execution_count": 21,
     "metadata": {},
     "output_type": "execute_result"
    }
   ],
   "source": [
    "new_cases_sum = filtered_data.df().groupby('Date')['New Cases'].sum()\n",
    "new_cases_sum"
   ]
  },
  {
   "cell_type": "code",
   "execution_count": 22,
   "metadata": {},
   "outputs": [
    {
     "data": {
      "text/plain": [
       "<Axes: xlabel='Date'>"
      ]
     },
     "execution_count": 22,
     "metadata": {},
     "output_type": "execute_result"
    },
    {
     "data": {
      "image/png": "[encoded data removed]",
      "text/plain": [
       "<Figure size 1200x600 with 1 Axes>"
      ]
     },
     "metadata": {},
     "output_type": "display_data"
    }
   ],
   "source": [
    "plt.figure(figsize=(12, 6))\n",
    "sns.lineplot(x=new_cases_sum.index, y=new_cases_sum.values)"
   ]
  },
  {
   "cell_type": "markdown",
   "metadata": {},
   "source": [
    "Perbandingan total kasus, dan kasus yang telah selesai di banung"
   ]
  },
  {
   "cell_type": "code",
   "execution_count": 23,
   "metadata": {},
   "outputs": [
    {
     "data": {
      "text/plain": [
       "Total Cases        1412511\n",
       "Total Deaths         15513\n",
       "Total Recovered    1386134\n",
       "dtype: int64"
      ]
     },
     "execution_count": 23,
     "metadata": {},
     "output_type": "execute_result"
    }
   ],
   "source": [
    "data_jakarta = db.query(\"SELECT * FROM data WHERE Location = 'DKI Jakarta' \").df()\n",
    "new_data_jakarta =data_jakarta[['Total Cases', 'Total Deaths', 'Total Recovered']].max()\n",
    "new_data_jakarta"
   ]
  },
  {
   "cell_type": "code",
   "execution_count": 24,
   "metadata": {},
   "outputs": [
    {
     "data": {
      "text/plain": [
       "<Axes: xlabel='None'>"
      ]
     },
     "execution_count": 24,
     "metadata": {},
     "output_type": "execute_result"
    },
    {
     "data": {
      "image/png": "[encoded data removed]",
      "text/plain": [
       "<Figure size 640x480 with 1 Axes>"
      ]
     },
     "metadata": {},
     "output_type": "display_data"
    }
   ],
   "source": [
    "sns.barplot(x=new_data_jakarta.index, y = new_data_jakarta.values)"
   ]
  },
  {
   "cell_type": "markdown",
   "metadata": {},
   "source": [
    "Perbandingan total case seluruh provinsi"
   ]
  },
  {
   "cell_type": "code",
   "execution_count": 25,
   "metadata": {},
   "outputs": [
    {
     "data": {
      "text/html": [
       "<div>\n",
       "<style scoped>\n",
       "    .dataframe tbody tr th:only-of-type {\n",
       "        vertical-align: middle;\n",
       "    }\n",
       "\n",
       "    .dataframe tbody tr th {\n",
       "        vertical-align: top;\n",
       "    }\n",
       "\n",
       "    .dataframe thead th {\n",
       "        text-align: right;\n",
       "    }\n",
       "</style>\n",
       "<table border=\"1\" class=\"dataframe\">\n",
       "  <thead>\n",
       "    <tr style=\"text-align: right;\">\n",
       "      <th></th>\n",
       "      <th>Location</th>\n",
       "      <th>Total Cases</th>\n",
       "      <th>Total Deaths</th>\n",
       "      <th>Total Recovered</th>\n",
       "    </tr>\n",
       "  </thead>\n",
       "  <tbody>\n",
       "    <tr>\n",
       "      <th>0</th>\n",
       "      <td>Aceh</td>\n",
       "      <td>44038</td>\n",
       "      <td>2223</td>\n",
       "      <td>41713</td>\n",
       "    </tr>\n",
       "    <tr>\n",
       "      <th>1</th>\n",
       "      <td>Bali</td>\n",
       "      <td>166831</td>\n",
       "      <td>4731</td>\n",
       "      <td>161629</td>\n",
       "    </tr>\n",
       "    <tr>\n",
       "      <th>2</th>\n",
       "      <td>Banten</td>\n",
       "      <td>333875</td>\n",
       "      <td>2950</td>\n",
       "      <td>328482</td>\n",
       "    </tr>\n",
       "    <tr>\n",
       "      <th>3</th>\n",
       "      <td>Bengkulu</td>\n",
       "      <td>29173</td>\n",
       "      <td>522</td>\n",
       "      <td>28617</td>\n",
       "    </tr>\n",
       "    <tr>\n",
       "      <th>4</th>\n",
       "      <td>DKI Jakarta</td>\n",
       "      <td>1412511</td>\n",
       "      <td>15513</td>\n",
       "      <td>1386134</td>\n",
       "    </tr>\n",
       "    <tr>\n",
       "      <th>5</th>\n",
       "      <td>Daerah Istimewa Yogyakarta</td>\n",
       "      <td>224307</td>\n",
       "      <td>5928</td>\n",
       "      <td>217712</td>\n",
       "    </tr>\n",
       "    <tr>\n",
       "      <th>6</th>\n",
       "      <td>Gorontalo</td>\n",
       "      <td>13951</td>\n",
       "      <td>487</td>\n",
       "      <td>13433</td>\n",
       "    </tr>\n",
       "    <tr>\n",
       "      <th>7</th>\n",
       "      <td>Jambi</td>\n",
       "      <td>38643</td>\n",
       "      <td>889</td>\n",
       "      <td>37681</td>\n",
       "    </tr>\n",
       "    <tr>\n",
       "      <th>8</th>\n",
       "      <td>Jawa Barat</td>\n",
       "      <td>1173731</td>\n",
       "      <td>15937</td>\n",
       "      <td>1144358</td>\n",
       "    </tr>\n",
       "    <tr>\n",
       "      <th>9</th>\n",
       "      <td>Jawa Tengah</td>\n",
       "      <td>636409</td>\n",
       "      <td>33489</td>\n",
       "      <td>601517</td>\n",
       "    </tr>\n",
       "    <tr>\n",
       "      <th>10</th>\n",
       "      <td>Jawa Timur</td>\n",
       "      <td>601545</td>\n",
       "      <td>31764</td>\n",
       "      <td>569003</td>\n",
       "    </tr>\n",
       "    <tr>\n",
       "      <th>11</th>\n",
       "      <td>Kalimantan Barat</td>\n",
       "      <td>65605</td>\n",
       "      <td>1132</td>\n",
       "      <td>64370</td>\n",
       "    </tr>\n",
       "    <tr>\n",
       "      <th>12</th>\n",
       "      <td>Kalimantan Selatan</td>\n",
       "      <td>87476</td>\n",
       "      <td>2583</td>\n",
       "      <td>84740</td>\n",
       "    </tr>\n",
       "    <tr>\n",
       "      <th>13</th>\n",
       "      <td>Kalimantan Tengah</td>\n",
       "      <td>58217</td>\n",
       "      <td>1565</td>\n",
       "      <td>56473</td>\n",
       "    </tr>\n",
       "    <tr>\n",
       "      <th>14</th>\n",
       "      <td>Kalimantan Timur</td>\n",
       "      <td>209017</td>\n",
       "      <td>5726</td>\n",
       "      <td>203022</td>\n",
       "    </tr>\n",
       "    <tr>\n",
       "      <th>15</th>\n",
       "      <td>Kalimantan Utara</td>\n",
       "      <td>45417</td>\n",
       "      <td>860</td>\n",
       "      <td>44530</td>\n",
       "    </tr>\n",
       "    <tr>\n",
       "      <th>16</th>\n",
       "      <td>Kepulauan Bangka Belitung</td>\n",
       "      <td>66144</td>\n",
       "      <td>1616</td>\n",
       "      <td>64455</td>\n",
       "    </tr>\n",
       "    <tr>\n",
       "      <th>17</th>\n",
       "      <td>Kepulauan Riau</td>\n",
       "      <td>70883</td>\n",
       "      <td>1888</td>\n",
       "      <td>68865</td>\n",
       "    </tr>\n",
       "    <tr>\n",
       "      <th>18</th>\n",
       "      <td>Lampung</td>\n",
       "      <td>75485</td>\n",
       "      <td>4186</td>\n",
       "      <td>71073</td>\n",
       "    </tr>\n",
       "    <tr>\n",
       "      <th>19</th>\n",
       "      <td>Maluku</td>\n",
       "      <td>18736</td>\n",
       "      <td>295</td>\n",
       "      <td>18394</td>\n",
       "    </tr>\n",
       "    <tr>\n",
       "      <th>20</th>\n",
       "      <td>Maluku Utara</td>\n",
       "      <td>14595</td>\n",
       "      <td>334</td>\n",
       "      <td>14247</td>\n",
       "    </tr>\n",
       "    <tr>\n",
       "      <th>21</th>\n",
       "      <td>Nusa Tenggara Barat</td>\n",
       "      <td>36247</td>\n",
       "      <td>902</td>\n",
       "      <td>35330</td>\n",
       "    </tr>\n",
       "    <tr>\n",
       "      <th>22</th>\n",
       "      <td>Nusa Tenggara Timur</td>\n",
       "      <td>94415</td>\n",
       "      <td>1527</td>\n",
       "      <td>92786</td>\n",
       "    </tr>\n",
       "    <tr>\n",
       "      <th>23</th>\n",
       "      <td>Papua</td>\n",
       "      <td>49927</td>\n",
       "      <td>580</td>\n",
       "      <td>49113</td>\n",
       "    </tr>\n",
       "    <tr>\n",
       "      <th>24</th>\n",
       "      <td>Papua Barat</td>\n",
       "      <td>32170</td>\n",
       "      <td>385</td>\n",
       "      <td>31650</td>\n",
       "    </tr>\n",
       "    <tr>\n",
       "      <th>25</th>\n",
       "      <td>Riau</td>\n",
       "      <td>152648</td>\n",
       "      <td>4452</td>\n",
       "      <td>147973</td>\n",
       "    </tr>\n",
       "    <tr>\n",
       "      <th>26</th>\n",
       "      <td>Sulawesi Barat</td>\n",
       "      <td>15601</td>\n",
       "      <td>394</td>\n",
       "      <td>15201</td>\n",
       "    </tr>\n",
       "    <tr>\n",
       "      <th>27</th>\n",
       "      <td>Sulawesi Selatan</td>\n",
       "      <td>144494</td>\n",
       "      <td>2485</td>\n",
       "      <td>141861</td>\n",
       "    </tr>\n",
       "    <tr>\n",
       "      <th>28</th>\n",
       "      <td>Sulawesi Tengah</td>\n",
       "      <td>61099</td>\n",
       "      <td>1733</td>\n",
       "      <td>59276</td>\n",
       "    </tr>\n",
       "    <tr>\n",
       "      <th>29</th>\n",
       "      <td>Sulawesi Tenggara</td>\n",
       "      <td>25693</td>\n",
       "      <td>569</td>\n",
       "      <td>25090</td>\n",
       "    </tr>\n",
       "    <tr>\n",
       "      <th>30</th>\n",
       "      <td>Sulawesi Utara</td>\n",
       "      <td>52770</td>\n",
       "      <td>1213</td>\n",
       "      <td>50997</td>\n",
       "    </tr>\n",
       "    <tr>\n",
       "      <th>31</th>\n",
       "      <td>Sumatera Barat</td>\n",
       "      <td>104640</td>\n",
       "      <td>2371</td>\n",
       "      <td>102066</td>\n",
       "    </tr>\n",
       "    <tr>\n",
       "      <th>32</th>\n",
       "      <td>Sumatera Selatan</td>\n",
       "      <td>82198</td>\n",
       "      <td>3376</td>\n",
       "      <td>78510</td>\n",
       "    </tr>\n",
       "    <tr>\n",
       "      <th>33</th>\n",
       "      <td>Sumatera Utara</td>\n",
       "      <td>158866</td>\n",
       "      <td>3288</td>\n",
       "      <td>154924</td>\n",
       "    </tr>\n",
       "  </tbody>\n",
       "</table>\n",
       "</div>"
      ],
      "text/plain": [
       "                      Location  Total Cases  Total Deaths  Total Recovered\n",
       "0                         Aceh        44038          2223            41713\n",
       "1                         Bali       166831          4731           161629\n",
       "2                       Banten       333875          2950           328482\n",
       "3                     Bengkulu        29173           522            28617\n",
       "4                  DKI Jakarta      1412511         15513          1386134\n",
       "5   Daerah Istimewa Yogyakarta       224307          5928           217712\n",
       "6                    Gorontalo        13951           487            13433\n",
       "7                        Jambi        38643           889            37681\n",
       "8                   Jawa Barat      1173731         15937          1144358\n",
       "9                  Jawa Tengah       636409         33489           601517\n",
       "10                  Jawa Timur       601545         31764           569003\n",
       "11            Kalimantan Barat        65605          1132            64370\n",
       "12          Kalimantan Selatan        87476          2583            84740\n",
       "13           Kalimantan Tengah        58217          1565            56473\n",
       "14            Kalimantan Timur       209017          5726           203022\n",
       "15            Kalimantan Utara        45417           860            44530\n",
       "16   Kepulauan Bangka Belitung        66144          1616            64455\n",
       "17              Kepulauan Riau        70883          1888            68865\n",
       "18                     Lampung        75485          4186            71073\n",
       "19                      Maluku        18736           295            18394\n",
       "20                Maluku Utara        14595           334            14247\n",
       "21         Nusa Tenggara Barat        36247           902            35330\n",
       "22         Nusa Tenggara Timur        94415          1527            92786\n",
       "23                       Papua        49927           580            49113\n",
       "24                 Papua Barat        32170           385            31650\n",
       "25                        Riau       152648          4452           147973\n",
       "26              Sulawesi Barat        15601           394            15201\n",
       "27            Sulawesi Selatan       144494          2485           141861\n",
       "28             Sulawesi Tengah        61099          1733            59276\n",
       "29           Sulawesi Tenggara        25693           569            25090\n",
       "30              Sulawesi Utara        52770          1213            50997\n",
       "31              Sumatera Barat       104640          2371           102066\n",
       "32            Sumatera Selatan        82198          3376            78510\n",
       "33              Sumatera Utara       158866          3288           154924"
      ]
     },
     "execution_count": 25,
     "metadata": {},
     "output_type": "execute_result"
    }
   ],
   "source": [
    "all_province = filtered_data.df().groupby('Location')[['Total Cases','Total Deaths', 'Total Recovered']].max()\n",
    "all_province = all_province.reset_index()\n",
    "all_province"
   ]
  },
  {
   "cell_type": "markdown",
   "metadata": {},
   "source": [
    "Grafik perbandingan total kasus di semua provinsi"
   ]
  },
  {
   "cell_type": "code",
   "execution_count": 26,
   "metadata": {},
   "outputs": [
    {
     "data": {
      "text/plain": [
       "<matplotlib.legend.Legend at 0x1ef80e0b580>"
      ]
     },
     "execution_count": 26,
     "metadata": {},
     "output_type": "execute_result"
    },
    {
     "data": {
      "image/png": "[encoded data removed]",
      "text/plain": [
       "<Figure size 3200x1800 with 1 Axes>"
      ]
     },
     "metadata": {},
     "output_type": "display_data"
    }
   ],
   "source": [
    "all_province_melted = all_province.melt(id_vars='Location', var_name='Category', value_name='Value')\n",
    "\n",
    "plt.figure(figsize=(32, 18))\n",
    "sns.barplot(x='Location', y='Value', hue='Category', data=all_province_melted, palette='muted')\n",
    "\n",
    "plt.xticks(rotation=45)\n",
    "plt.legend(title='Category')"
   ]
  },
  {
   "cell_type": "markdown",
   "metadata": {},
   "source": [
    "Pie chart di berbagai pulau di indinesia"
   ]
  },
  {
   "cell_type": "code",
   "execution_count": 27,
   "metadata": {},
   "outputs": [
    {
     "data": {
      "text/plain": [
       "Island\n",
       "Jawa             1412511\n",
       "Kalimantan        209017\n",
       "Maluku             18736\n",
       "Nusa Tenggara     166831\n",
       "Papua              49927\n",
       "Sulawesi          144494\n",
       "Sumatera          158866\n",
       "Name: Total Cases, dtype: int64"
      ]
     },
     "execution_count": 27,
     "metadata": {},
     "output_type": "execute_result"
    }
   ],
   "source": [
    "total_cases_island = filtered_data.df().groupby('Island')['Total Cases'].max()\n",
    "total_cases_island"
   ]
  },
  {
   "cell_type": "code",
   "execution_count": 28,
   "metadata": {},
   "outputs": [
    {
     "data": {
      "text/plain": [
       "Text(0.5, 1.0, 'Pie Chart Total Cases di berbagai Pulau di Indonesia')"
      ]
     },
     "execution_count": 28,
     "metadata": {},
     "output_type": "execute_result"
    },
    {
     "data": {
      "image/png": "[encoded data removed]",
      "text/plain": [
       "<Figure size 800x800 with 1 Axes>"
      ]
     },
     "metadata": {},
     "output_type": "display_data"
    }
   ],
   "source": [
    "plt.figure(figsize=(8,8))\n",
    "plt.pie(total_cases_island.values, labels=total_cases_island.index,autopct='%1.1f%%')\n",
    "plt.title('Pie Chart Total Cases di berbagai Pulau di Indonesia')"
   ]
  }
 ],
 "metadata": {
  "kernelspec": {
   "display_name": "Python 3",
   "language": "python",
   "name": "python3"
  },
  "language_info": {
   "codemirror_mode": {
    "name": "ipython",
    "version": 3
   },
   "file_extension": ".py",
   "mimetype": "text/x-python",
   "name": "python",
   "nbconvert_exporter": "python",
   "pygments_lexer": "ipython3",
   "version": "3.10.11"
  }
 },
 "nbformat": 4,
 "nbformat_minor": 2
}
